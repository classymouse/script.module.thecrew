{
 "cells": [
  {
   "cell_type": "code",
   "execution_count": null,
   "id": "9c0b4da6",
   "metadata": {},
   "outputs": [
    {
     "name": "stderr",
     "output_type": "stream",
     "text": [
      "10:56:41: Main    : before creating thread\n",
      "10:56:41: Main    : before running thread\n",
      "10:56:41: Thread 1: starting\n",
      "10:56:41: Main    : wait for the thread to finish\n",
      "10:56:41: Main    : all done\n",
      "10:56:41: Main    : create and start thread 0.\n",
      "10:56:41: Thread 0: starting\n",
      "10:56:41: Main    : create and start thread 1.\n",
      "10:56:41: Thread 1: starting\n",
      "10:56:41: Main    : create and start thread 2.\n",
      "10:56:41: Thread 2: starting\n",
      "10:56:41: Main    : before joining thread 0.\n",
      "10:56:43: Thread 1: finishing\n",
      "10:56:43: Thread 0: finishing\n",
      "10:56:43: Main    : thread 0 done\n",
      "10:56:43: Main    : before joining thread 1.\n",
      "10:56:43: Thread 1: finishing\n",
      "10:56:43: Main    : thread 1 done\n",
      "10:56:43: Main    : before joining thread 2.\n",
      "10:56:43: Thread 2: finishing\n",
      "10:56:43: Main    : thread 2 done\n"
     ]
    }
   ],
   "source": [
    "import logging\n",
    "import threading\n",
    "import time\n",
    "\n",
    "def thread_function(name):\n",
    "    logging.info(\"Thread %s: starting\", name)\n",
    "    time.sleep(2)\n",
    "    logging.info(\"Thread %s: finishing\", name)\n",
    "\n",
    "if __name__ == \"__main__\":\n",
    "    format = \"%(asctime)s: %(message)s\"\n",
    "    logging.basicConfig(format=format, level=logging.INFO, datefmt=\"%H:%M:%S\")\n",
    "\n",
    "    logging.info(\"Main    : before creating thread\")\n",
    "    #x = threading.Thread(target=thread_function, args=(1,))\n",
    "    x = threading.Thread(target=thread_function, args=(1,), daemon=True)\n",
    "    logging.info(\"Main    : before running thread\")\n",
    "    x.start()\n",
    "    logging.info(\"Main    : wait for the thread to finish\")\n",
    "    #x.join()\n",
    "    logging.info(\"Main    : all done\")\n"
   ]
  },
  {
   "cell_type": "code",
   "execution_count": 12,
   "id": "0e2f1c02",
   "metadata": {},
   "outputs": [
    {
     "name": "stderr",
     "output_type": "stream",
     "text": [
      "10:59:22: Main    : create and start thread 0.\n",
      "10:59:22: Thread 0: starting\n",
      "10:59:22: Main    : create and start thread 1.\n",
      "10:59:22: Thread 1: starting\n",
      "10:59:22: Main    : create and start thread 2.\n",
      "10:59:22: Thread 2: starting\n",
      "10:59:22: Main    : before joining thread 0.\n",
      "10:59:24: Thread 0: finishing\n",
      "10:59:24: Thread 1: finishing\n",
      "10:59:24: Thread 2: finishing\n",
      "10:59:24: Main    : thread 0 done\n",
      "10:59:24: Main    : before joining thread 1.\n",
      "10:59:24: Main    : thread 1 done\n",
      "10:59:24: Main    : before joining thread 2.\n",
      "10:59:24: Main    : thread 2 done\n"
     ]
    }
   ],
   "source": [
    "import logging\n",
    "import threading\n",
    "import time\n",
    "\n",
    "def thread_function(name):\n",
    "    logging.info(\"Thread %s: starting\", name)\n",
    "    time.sleep(2)\n",
    "    logging.info(\"Thread %s: finishing\", name)\n",
    "\n",
    "if __name__ == \"__main__\":\n",
    "    format = \"%(asctime)s: %(message)s\"\n",
    "    logging.basicConfig(format=format, level=logging.INFO,\n",
    "                        datefmt=\"%H:%M:%S\")\n",
    "\n",
    "    threads = list()\n",
    "    for index in range(3):\n",
    "        logging.info(\"Main    : create and start thread %d.\", index)\n",
    "        x = threading.Thread(target=thread_function, args=(index,))\n",
    "        threads.append(x)\n",
    "        x.start()\n",
    "\n",
    "    for index, thread in enumerate(threads):\n",
    "        logging.info(\"Main    : before joining thread %d.\", index)\n",
    "        thread.join()\n",
    "        logging.info(\"Main    : thread %d done\", index)"
   ]
  },
  {
   "cell_type": "code",
   "execution_count": 14,
   "id": "e8c292b6",
   "metadata": {},
   "outputs": [
    {
     "name": "stderr",
     "output_type": "stream",
     "text": [
      "11:04:21: Thread 0: starting\n",
      "11:04:21: Thread 1: starting\n",
      "11:04:21: Thread 2: starting\n",
      "11:04:23: Thread 0: finishing\n",
      "11:04:23: Thread 1: finishing\n",
      "11:04:23: Thread 2: finishing\n"
     ]
    }
   ],
   "source": [
    "import concurrent.futures\n",
    "import time\n",
    "import logging\n",
    "\n",
    "def thread_function(name):\n",
    "    logging.info(\"Thread %s: starting\", name)\n",
    "    time.sleep(2)\n",
    "    logging.info(\"Thread %s: finishing\", name)\n",
    "\n",
    "if __name__ == \"__main__\":\n",
    "    format = \"%(asctime)s: %(message)s\"\n",
    "    logging.basicConfig(format=format, level=logging.INFO,\n",
    "                        datefmt=\"%H:%M:%S\")\n",
    "\n",
    "    with concurrent.futures.ThreadPoolExecutor(max_workers=3) as executor:\n",
    "        executor.map(thread_function, range(3))"
   ]
  },
  {
   "cell_type": "code",
   "execution_count": 15,
   "id": "5238cd3e",
   "metadata": {},
   "outputs": [
    {
     "name": "stdout",
     "output_type": "stream",
     "text": [
      "Processing item: 1Processing item: 2\n",
      "\n",
      "Processing item: 3\n",
      "Processing item: 4\n",
      "Processing item: 5\n",
      "Processing item: 6\n",
      "Processing item: 7\n",
      "Processing item: 8\n",
      "Processing item: 9\n",
      "Processing item: 10\n",
      "Results: [9, 6, 2, 7, 4, 5, 1, 3, 8, 10]\n"
     ]
    }
   ],
   "source": [
    "import concurrent.futures\n",
    "\n",
    "def add_to_list(item):\n",
    "    # Simulate some work being done\n",
    "    print(f\"Processing item: {item}\")\n",
    "    # Add item to list (in a real scenario, this would be a shared resource)\n",
    "    # For demonstration purposes, we'll just return the item\n",
    "    return item\n",
    "\n",
    "def main():\n",
    "    items = [1, 2, 3, 4, 5, 6, 7, 8, 9, 10]\n",
    "    results = []\n",
    "\n",
    "    with concurrent.futures.ThreadPoolExecutor(max_workers=5) as executor:\n",
    "        futures = {executor.submit(add_to_list, item): item for item in items}\n",
    "        for future in concurrent.futures.as_completed(futures):\n",
    "            item = futures[future]\n",
    "            try:\n",
    "                result = future.result()\n",
    "                results.append(result)\n",
    "            except Exception as exc:\n",
    "                print(f\"Error processing item {item}: {exc}\")\n",
    "\n",
    "    print(\"Results:\", results)\n",
    "\n",
    "if __name__ == \"__main__\":\n",
    "    main()"
   ]
  }
 ],
 "metadata": {
  "kernelspec": {
   "display_name": "Python 3",
   "language": "python",
   "name": "python3"
  },
  "language_info": {
   "codemirror_mode": {
    "name": "ipython",
    "version": 3
   },
   "file_extension": ".py",
   "mimetype": "text/x-python",
   "name": "python",
   "nbconvert_exporter": "python",
   "pygments_lexer": "ipython3",
   "version": "3.11.9"
  }
 },
 "nbformat": 4,
 "nbformat_minor": 5
}
