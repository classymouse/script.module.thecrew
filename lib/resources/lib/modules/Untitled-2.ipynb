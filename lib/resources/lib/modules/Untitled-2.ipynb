{
 "cells": [
  {
   "cell_type": "code",
   "execution_count": null,
   "metadata": {},
   "outputs": [
    {
     "name": "stdout",
     "output_type": "stream",
     "text": [
      "--> type data = <class 'dict'>\n",
      "{'keyapp': 'ERNBQQHGTLMVKETED9WNEF6HGM85XGEU', 'mode': 'user', 'action': 'authenticate'}\n",
      "{\"name\":\"Orion API\",\"version\":\"5.0.0\",\"result\":{\"status\":\"success\",\"type\":\"userauthinitialize\",\"description\":\"Authentication Initialized\",\"message\":\"The authentication was successfully initiated.\"},\"data\":{\"code\":\"9MP-GED\",\"interval\":5,\"expiration\":1743927686,\"link\":\"https://auth.orionoid.com\",\"direct\":\"https://auth.orionoid.com/9MPGED\",\"qr\":\"https://qr.orionoid.com/2GRWRXBR5YOMZRKNSZCOJC2NALTFVGSAI2ZQ5W75LRKRGSLE2G6WWFO5F2C45UXADARLTFOKJDZ3FCYTXBUTOW7QWOUQYG2TPUY73LJRYZB2SVMLOYF6DCYDO3MAOFTG\"}}\n"
     ]
    }
   ],
   "source": [
    "import requests\n",
    "\n",
    "#header\n",
    "headers = {\n",
    "    'Content-Type': 'application/json'\n",
    "    }\n",
    "#vars\n",
    "url = 'https://api.orionoid.com'\n",
    "mode = 'user'\n",
    "action = 'authenticate'\n",
    "appkey = 'ERNBQQHGTLMVKETED9WNEF6HGM85XGEU'\n",
    "\n",
    "#data dict\n",
    "datadict = {}\n",
    "datadict['keyapp'] = appkey\n",
    "datadict['mode'] = mode\n",
    "datadict['action'] = action\n",
    "\n",
    "data = {'keyapp': appkey, 'mode': mode, 'action': action}\n",
    "\n",
    "print('--> type data = ' + str(type(data)))\n",
    "print(data)\n",
    "response = requests.post(url, json=data, headers=headers)\n",
    "print(response.text)\n",
    "\n",
    "\n"
   ]
  }
 ],
 "metadata": {
  "kernelspec": {
   "display_name": "Python 3",
   "language": "python",
   "name": "python3"
  },
  "language_info": {
   "codemirror_mode": {
    "name": "ipython",
    "version": 3
   },
   "file_extension": ".py",
   "mimetype": "text/x-python",
   "name": "python",
   "nbconvert_exporter": "python",
   "pygments_lexer": "ipython3",
   "version": "3.11.9"
  }
 },
 "nbformat": 4,
 "nbformat_minor": 2
}
