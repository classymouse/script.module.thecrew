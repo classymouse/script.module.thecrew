{
 "cells": [
  {
   "cell_type": "code",
   "execution_count": null,
   "metadata": {},
   "outputs": [
    {
     "name": "stdout",
     "output_type": "stream",
     "text": [
      "{\"name\":\"Orion API\",\"version\":\"5.0.0\",\"result\":{\"status\":\"success\",\"type\":\"userauthinitialize\",\"description\":\"Authentication Initialized\",\"message\":\"The authentication was successfully initiated.\"},\"data\":{\"code\":\"FFH-TLJ\",\"interval\":5,\"expiration\":1741711178,\"link\":\"https://auth.orionoid.com\",\"direct\":\"https://auth.orionoid.com/FFHTLJ\",\"qr\":\"https://qr.orionoid.com/QERT23FSCB74AXFQZN67SWAVTZ567KKZWNKQ5TWBRLLL6ZEA5DUNY47M763ZG63O5FAPO5WTCBWI5NSJ3MRWRKKFWMNWF623OORFEW6BQVCCWJM74D6DUJ2BJT334NED\"}}\n",
      "type datadict = <class 'dict'>\n",
      "{'keyapp': 'ERNBQQHGTLMVKETED9WNEF6HGM85XGEU', 'mode': 'user', 'action': 'authenticate'}\n",
      "{\"name\":\"Orion API\",\"version\":\"5.0.0\",\"result\":{\"status\":\"error\",\"type\":\"appkey\",\"description\":\"Invalid App API Key\",\"message\":\"The app API key is invalid.\"}}\n",
      "type data = <class 'dict'>\n",
      "{'keyapp': 'ERNBQQHGTLMVKETED9WNEF6HGM85XGEU', 'mode': 'user', 'action': 'authenticate'}\n",
      "{\"name\":\"Orion API\",\"version\":\"5.0.0\",\"result\":{\"status\":\"error\",\"type\":\"appkey\",\"description\":\"Invalid App API Key\",\"message\":\"The app API key is invalid.\"}}\n"
     ]
    }
   ],
   "source": [
    "import requests\n",
    "import json\n",
    "\n",
    "\n",
    "headers = {\n",
    "    'Content-Type': 'application/x-www-form-urlencoded'\n",
    "    }\n",
    "\n",
    "url = 'https://api.orionoid.com'\n",
    "\n",
    "data = 'keyapp=ERNBQQHGTLMVKETED9WNEF6HGM85XGEU&mode=user&action=authenticate'\n",
    "response = requests.post(url, data=data, headers=headers)\n",
    "print(response.text)\n",
    "\n",
    "#vars\n",
    "mode = 'user'\n",
    "action = 'authenticate'\n",
    "appkey = 'ERNBQQHGTLMVKETED9WNEF6HGM85XGEU'\n",
    "\n",
    "\n",
    "headers = {\n",
    "    'Content-Type': 'application/json'\n",
    "    }\n",
    "\n",
    "datadict = {}\n",
    "datadict['keyapp'] = appkey\n",
    "datadict['mode'] = mode\n",
    "datadict['action'] = action\n",
    "\n",
    "print('type datadict = ' + str(type(datadict)))\n",
    "print(datadict)\n",
    "response = requests.post(url, datadict, headers=headers)\n",
    "print(response.text)\n",
    "\n",
    "data = {'keyapp': appkey, 'mode': mode, 'action': action}\n",
    "\n",
    "print('type data = ' + str(type(data)))\n",
    "print(data)\n",
    "response = requests.post(url, data, headers=headers)\n",
    "print(response.text)\n"
   ]
  }
 ],
 "metadata": {
  "kernelspec": {
   "display_name": "Python 3",
   "language": "python",
   "name": "python3"
  },
  "language_info": {
   "codemirror_mode": {
    "name": "ipython",
    "version": 3
   },
   "file_extension": ".py",
   "mimetype": "text/x-python",
   "name": "python",
   "nbconvert_exporter": "python",
   "pygments_lexer": "ipython3",
   "version": "3.11.9"
  }
 },
 "nbformat": 4,
 "nbformat_minor": 2
}
