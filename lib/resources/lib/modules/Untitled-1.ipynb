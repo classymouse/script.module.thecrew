{
 "cells": [
  {
   "cell_type": "code",
   "execution_count": null,
   "metadata": {},
   "outputs": [
    {
     "name": "stdout",
     "output_type": "stream",
     "text": [
      "re.compile('[a-z]+')\n",
      "<class 're.Pattern'>\n",
      "<re.Match object; span=(0, 5), match='tempo'>\n",
      "tempo\n",
      "0 5\n",
      "(0, 5)\n",
      "None\n",
      "<re.Match object; span=(4, 11), match='message'>\n",
      "message\n",
      "(4, 11)\n",
      "<re.Match object; span=(4, 11), match='message'>\n",
      "(0, 2)\n",
      "(22, 24)\n",
      "(40, 42)\n",
      "('c',)\n",
      "()\n",
      "['Words', 'words', 'words', '']\n",
      "['Words', ', ', 'words', ', ', 'words']\n"
     ]
    }
   ],
   "source": [
    "import re\n",
    "\n",
    "\n",
    "p = re.compile('[a-z]+')\n",
    "#p\n",
    "#p = re.compile('ab*', re.IGNORECASE)\n",
    "\n",
    "m = p.match('tempo')\n",
    "\n",
    "\n",
    "print(p)\n",
    "print(type(p))\n",
    "print(m)\n",
    "\n",
    "print(m.group())\n",
    "print(str(m.start()) + \" \" + str(m.end()))\n",
    "print(m.span())\n",
    "\n",
    "print(p.match('::: message'))\n",
    "m = p.search('::: message')\n",
    "print(m)\n",
    "print(m.group())\n",
    "print(m.span())\n",
    "print(m)\n",
    "\n",
    "\n",
    "s = '12 drummers drumming, 11 pipers piping, 10 lords a-leaping'\n",
    "\n",
    "p = re.compile(r'\\d+')\n",
    "m = p.findall(s)\n",
    "\n",
    "iterator = p.finditer(s)\n",
    "\n",
    "for match in iterator:\n",
    "    print(match.span())\n",
    "\n",
    "\n",
    "m = re.match(\"([abc])+\", \"abc\")\n",
    "print(m.groups())\n",
    "\n",
    "m = re.match(\"(?:[abc])+\", \"abc\")\n",
    "print(m.groups())\n",
    "\n",
    "\n",
    "w = re.split(r'[\\W]+', 'Words, words, words.')\n",
    "print(w)\n",
    "\n",
    "\n",
    "w = re.split(r'([\\W]+)', 'Words, words, words')\n",
    "print(w)\n"
   ]
  }
 ],
 "metadata": {
  "kernelspec": {
   "display_name": "Python 3",
   "language": "python",
   "name": "python3"
  },
  "language_info": {
   "codemirror_mode": {
    "name": "ipython",
    "version": 3
   },
   "file_extension": ".py",
   "mimetype": "text/x-python",
   "name": "python",
   "nbconvert_exporter": "python",
   "pygments_lexer": "ipython3",
   "version": "3.11.9"
  }
 },
 "nbformat": 4,
 "nbformat_minor": 2
}
